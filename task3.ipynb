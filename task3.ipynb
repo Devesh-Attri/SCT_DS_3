{
  "nbformat": 4,
  "nbformat_minor": 0,
  "metadata": {
    "colab": {
      "provenance": [],
      "gpuType": "T4"
    },
    "kernelspec": {
      "name": "python3",
      "display_name": "Python 3"
    },
    "language_info": {
      "name": "python"
    }
  },
  "cells": [
    {
      "cell_type": "code",
      "source": [
        "from google.colab import drive\n",
        "drive.mount('/content/drive')"
      ],
      "metadata": {
        "colab": {
          "base_uri": "https://localhost:8080/"
        },
        "id": "oSaOFAIU2CiE",
        "outputId": "c79438cc-8eb2-4b14-aad6-13572f5a1a00"
      },
      "execution_count": 135,
      "outputs": [
        {
          "output_type": "stream",
          "name": "stdout",
          "text": [
            "Drive already mounted at /content/drive; to attempt to forcibly remount, call drive.mount(\"/content/drive\", force_remount=True).\n"
          ]
        }
      ]
    },
    {
      "cell_type": "code",
      "source": [
        "import pandas as pd\n",
        "from sklearn.model_selection import train_test_split\n",
        "from sklearn.tree import DecisionTreeClassifier\n",
        "from sklearn.preprocessing import LabelEncoder\n",
        "from sklearn.metrics import accuracy_score, classification_report, confusion_matrix\n",
        "from imblearn.over_sampling import SMOTE\n",
        "from sklearn.model_selection import GridSearchCV"
      ],
      "metadata": {
        "id": "0owyqeTZ_mqi"
      },
      "execution_count": 154,
      "outputs": []
    },
    {
      "cell_type": "code",
      "source": [
        "# Step 1: Load the data\n",
        "# Load the dataset\n",
        "file_path = '/content/bank-full.csv'\n",
        "data = pd.read_csv(file_path, sep=';')\n",
        "\n",
        "# Display the first few rows of the dataset\n",
        "print(data.head())"
      ],
      "metadata": {
        "colab": {
          "base_uri": "https://localhost:8080/"
        },
        "id": "QjnRfq1H2PHA",
        "outputId": "a0e38b42-3808-4b8d-f47b-b1399b39a52a"
      },
      "execution_count": 138,
      "outputs": [
        {
          "output_type": "stream",
          "name": "stdout",
          "text": [
            "   age           job  marital  education default  balance housing loan  \\\n",
            "0   58    management  married   tertiary      no     2143     yes   no   \n",
            "1   44    technician   single  secondary      no       29     yes   no   \n",
            "2   33  entrepreneur  married  secondary      no        2     yes  yes   \n",
            "3   47   blue-collar  married    unknown      no     1506     yes   no   \n",
            "4   33       unknown   single    unknown      no        1      no   no   \n",
            "\n",
            "   contact  day month  duration  campaign  pdays  previous poutcome   y  \n",
            "0  unknown    5   may       261         1     -1         0  unknown  no  \n",
            "1  unknown    5   may       151         1     -1         0  unknown  no  \n",
            "2  unknown    5   may        76         1     -1         0  unknown  no  \n",
            "3  unknown    5   may        92         1     -1         0  unknown  no  \n",
            "4  unknown    5   may       198         1     -1         0  unknown  no  \n"
          ]
        }
      ]
    },
    {
      "cell_type": "code",
      "source": [
        "print(data.info())"
      ],
      "metadata": {
        "colab": {
          "base_uri": "https://localhost:8080/"
        },
        "id": "vA9inN2BEekJ",
        "outputId": "6ecab2ef-f8d3-4020-ad1f-8c32cd106e25"
      },
      "execution_count": 140,
      "outputs": [
        {
          "output_type": "stream",
          "name": "stdout",
          "text": [
            "<class 'pandas.core.frame.DataFrame'>\n",
            "RangeIndex: 45211 entries, 0 to 45210\n",
            "Data columns (total 17 columns):\n",
            " #   Column     Non-Null Count  Dtype \n",
            "---  ------     --------------  ----- \n",
            " 0   age        45211 non-null  int64 \n",
            " 1   job        45211 non-null  object\n",
            " 2   marital    45211 non-null  object\n",
            " 3   education  45211 non-null  object\n",
            " 4   default    45211 non-null  object\n",
            " 5   balance    45211 non-null  int64 \n",
            " 6   housing    45211 non-null  object\n",
            " 7   loan       45211 non-null  object\n",
            " 8   contact    45211 non-null  object\n",
            " 9   day        45211 non-null  int64 \n",
            " 10  month      45211 non-null  object\n",
            " 11  duration   45211 non-null  int64 \n",
            " 12  campaign   45211 non-null  int64 \n",
            " 13  pdays      45211 non-null  int64 \n",
            " 14  previous   45211 non-null  int64 \n",
            " 15  poutcome   45211 non-null  object\n",
            " 16  y          45211 non-null  object\n",
            "dtypes: int64(7), object(10)\n",
            "memory usage: 5.9+ MB\n",
            "None\n"
          ]
        }
      ]
    },
    {
      "cell_type": "code",
      "source": [
        "data.isnull().sum()"
      ],
      "metadata": {
        "colab": {
          "base_uri": "https://localhost:8080/",
          "height": 610
        },
        "id": "s3EOrxaiFL0g",
        "outputId": "a041ad22-cf33-4f3b-c3eb-fe03f87376ae"
      },
      "execution_count": 141,
      "outputs": [
        {
          "output_type": "execute_result",
          "data": {
            "text/plain": [
              "age          0\n",
              "job          0\n",
              "marital      0\n",
              "education    0\n",
              "default      0\n",
              "balance      0\n",
              "housing      0\n",
              "loan         0\n",
              "contact      0\n",
              "day          0\n",
              "month        0\n",
              "duration     0\n",
              "campaign     0\n",
              "pdays        0\n",
              "previous     0\n",
              "poutcome     0\n",
              "y            0\n",
              "dtype: int64"
            ],
            "text/html": [
              "<table border=\"1\" class=\"dataframe\">\n",
              "  <thead>\n",
              "    <tr style=\"text-align: right;\">\n",
              "      <th></th>\n",
              "      <th>0</th>\n",
              "    </tr>\n",
              "  </thead>\n",
              "  <tbody>\n",
              "    <tr>\n",
              "      <th>age</th>\n",
              "      <td>0</td>\n",
              "    </tr>\n",
              "    <tr>\n",
              "      <th>job</th>\n",
              "      <td>0</td>\n",
              "    </tr>\n",
              "    <tr>\n",
              "      <th>marital</th>\n",
              "      <td>0</td>\n",
              "    </tr>\n",
              "    <tr>\n",
              "      <th>education</th>\n",
              "      <td>0</td>\n",
              "    </tr>\n",
              "    <tr>\n",
              "      <th>default</th>\n",
              "      <td>0</td>\n",
              "    </tr>\n",
              "    <tr>\n",
              "      <th>balance</th>\n",
              "      <td>0</td>\n",
              "    </tr>\n",
              "    <tr>\n",
              "      <th>housing</th>\n",
              "      <td>0</td>\n",
              "    </tr>\n",
              "    <tr>\n",
              "      <th>loan</th>\n",
              "      <td>0</td>\n",
              "    </tr>\n",
              "    <tr>\n",
              "      <th>contact</th>\n",
              "      <td>0</td>\n",
              "    </tr>\n",
              "    <tr>\n",
              "      <th>day</th>\n",
              "      <td>0</td>\n",
              "    </tr>\n",
              "    <tr>\n",
              "      <th>month</th>\n",
              "      <td>0</td>\n",
              "    </tr>\n",
              "    <tr>\n",
              "      <th>duration</th>\n",
              "      <td>0</td>\n",
              "    </tr>\n",
              "    <tr>\n",
              "      <th>campaign</th>\n",
              "      <td>0</td>\n",
              "    </tr>\n",
              "    <tr>\n",
              "      <th>pdays</th>\n",
              "      <td>0</td>\n",
              "    </tr>\n",
              "    <tr>\n",
              "      <th>previous</th>\n",
              "      <td>0</td>\n",
              "    </tr>\n",
              "    <tr>\n",
              "      <th>poutcome</th>\n",
              "      <td>0</td>\n",
              "    </tr>\n",
              "    <tr>\n",
              "      <th>y</th>\n",
              "      <td>0</td>\n",
              "    </tr>\n",
              "  </tbody>\n",
              "</table><br><label><b>dtype:</b> int64</label>"
            ]
          },
          "metadata": {},
          "execution_count": 141
        }
      ]
    },
    {
      "cell_type": "markdown",
      "source": [
        "#**Mapping based on the printed known labels:**\n",
        "\n",
        "**Job:**\n",
        "0: 'admin.'\n",
        "1: 'blue-collar'\n",
        "2: 'entrepreneur'\n",
        "3: 'housemaid'\n",
        "4: 'management'\n",
        "5: 'retired'\n",
        "6: 'self-employed'\n",
        "7: 'services'\n",
        "8: 'student'\n",
        "9: 'technician'\n",
        "10: 'unemployed'\n",
        "11: 'unknown'\n",
        "\n",
        "**Marital:**\n",
        "0: 'divorced'\n",
        "1: 'married'\n",
        "2: 'single'\n",
        "\n",
        "**Education:**\n",
        "0: 'primary'\n",
        "1: 'secondary'\n",
        "2: 'tertiary'\n",
        "3: 'unknown'\n",
        "\n",
        "**Default:**\n",
        "0: 'no'\n",
        "1: 'yes'\n",
        "\n",
        "**Housing:**\n",
        "0: 'no'\n",
        "1: 'yes'\n",
        "\n",
        "**Loan:**\n",
        "0: 'no'\n",
        "1: 'yes'\n",
        "\n",
        "**Contact:**\n",
        "0: 'cellular'\n",
        "1: 'telephone'\n",
        "2: 'unknown'\n",
        "\n",
        "**Month:**\n",
        "0: 'apr'\n",
        "1: 'aug'\n",
        "2: 'dec'\n",
        "3: 'feb'\n",
        "4: 'jan'\n",
        "5: 'jul'\n",
        "6: 'jun'\n",
        "7: 'mar'\n",
        "8: 'may'\n",
        "9: 'nov'\n",
        "10: 'oct'\n",
        "11: 'sep'\n",
        "\n",
        "**Poutcome:**\n",
        "0: 'failure'\n",
        "1: 'other'\n",
        "2: 'success'\n",
        "3: 'unknown'"
      ],
      "metadata": {
        "id": "WYRBMGfYp3vJ"
      }
    },
    {
      "cell_type": "code",
      "source": [
        "# Step 2: Data preprocessing\n",
        "# Handle missing values, encode categorical variables, and split the dataset into features and labels.\n",
        "\n",
        "# Handle missing values if any\n",
        "data.fillna(method='ffill', inplace=True)\n",
        "\n",
        "# Encoding categorical features\n",
        "label_encoders = {}\n",
        "categorical_columns = ['job', 'marital', 'education', 'default', 'housing', 'loan', 'contact', 'month', 'poutcome']\n",
        "for column in categorical_columns:\n",
        "    le = LabelEncoder()\n",
        "    data[column] = le.fit_transform(data[column])\n",
        "    label_encoders[column] = le\n",
        "\n",
        "# Encode the target variable\n",
        "target_encoder = LabelEncoder()\n",
        "data['y'] = target_encoder.fit_transform(data['y'])\n",
        "\n",
        "# Split the dataset into features and target variable\n",
        "X = data.drop(columns=['y'])\n",
        "y = data['y']"
      ],
      "metadata": {
        "id": "omCw2LtC4V5M",
        "colab": {
          "base_uri": "https://localhost:8080/"
        },
        "outputId": "724d7010-d6d0-4210-d3f5-21045a0342e7"
      },
      "execution_count": 155,
      "outputs": [
        {
          "output_type": "stream",
          "name": "stderr",
          "text": [
            "<ipython-input-155-fe6640e59a01>:5: FutureWarning: DataFrame.fillna with 'method' is deprecated and will raise in a future version. Use obj.ffill() or obj.bfill() instead.\n",
            "  data.fillna(method='ffill', inplace=True)\n"
          ]
        }
      ]
    },
    {
      "cell_type": "code",
      "source": [
        "# Step 3: Train-test split\n",
        "# Split the dataset into training and testing sets\n",
        "X_train, X_test, y_train, y_test = train_test_split(X, y, test_size=0.2, random_state=42)\n"
      ],
      "metadata": {
        "id": "hSrTsUCmUdsi"
      },
      "execution_count": 157,
      "outputs": []
    },
    {
      "cell_type": "code",
      "source": [
        "# Step 4: Resample the training data\n",
        "smote = SMOTE(random_state=42)\n",
        "X_resampled, y_resampled = smote.fit_resample(X_train, y_train)\n",
        "\n",
        "# Step 5: Initialize the classifier\n",
        "clf = DecisionTreeClassifier(random_state=42)\n",
        "\n",
        "# Step 6: Set up the parameter grid for Grid Search\n",
        "param_grid = {\n",
        "    'max_depth': [None, 10, 20, 30, 40, 50],\n",
        "    'min_samples_split': [2, 5, 10],\n",
        "    'min_samples_leaf': [1, 2, 5, 10]\n",
        "}\n",
        "\n",
        "# Step 7: Perform Grid Search\n",
        "grid_search = GridSearchCV(clf, param_grid, cv=5, scoring='f1')\n",
        "grid_search.fit(X_resampled, y_resampled)\n",
        "\n",
        "# Step 8: Train the best model\n",
        "best_clf = grid_search.best_estimator_\n",
        "best_clf.fit(X_resampled, y_resampled)"
      ],
      "metadata": {
        "colab": {
          "base_uri": "https://localhost:8080/",
          "height": 74
        },
        "id": "9xXnyjht2AVK",
        "outputId": "88b4c2ff-06b9-4b23-ec2b-d0c87e2e43df"
      },
      "execution_count": 158,
      "outputs": [
        {
          "output_type": "execute_result",
          "data": {
            "text/plain": [
              "DecisionTreeClassifier(max_depth=20, random_state=42)"
            ],
            "text/html": [
              "<style>#sk-container-id-11 {color: black;}#sk-container-id-11 pre{padding: 0;}#sk-container-id-11 div.sk-toggleable {background-color: white;}#sk-container-id-11 label.sk-toggleable__label {cursor: pointer;display: block;width: 100%;margin-bottom: 0;padding: 0.3em;box-sizing: border-box;text-align: center;}#sk-container-id-11 label.sk-toggleable__label-arrow:before {content: \"▸\";float: left;margin-right: 0.25em;color: #696969;}#sk-container-id-11 label.sk-toggleable__label-arrow:hover:before {color: black;}#sk-container-id-11 div.sk-estimator:hover label.sk-toggleable__label-arrow:before {color: black;}#sk-container-id-11 div.sk-toggleable__content {max-height: 0;max-width: 0;overflow: hidden;text-align: left;background-color: #f0f8ff;}#sk-container-id-11 div.sk-toggleable__content pre {margin: 0.2em;color: black;border-radius: 0.25em;background-color: #f0f8ff;}#sk-container-id-11 input.sk-toggleable__control:checked~div.sk-toggleable__content {max-height: 200px;max-width: 100%;overflow: auto;}#sk-container-id-11 input.sk-toggleable__control:checked~label.sk-toggleable__label-arrow:before {content: \"▾\";}#sk-container-id-11 div.sk-estimator input.sk-toggleable__control:checked~label.sk-toggleable__label {background-color: #d4ebff;}#sk-container-id-11 div.sk-label input.sk-toggleable__control:checked~label.sk-toggleable__label {background-color: #d4ebff;}#sk-container-id-11 input.sk-hidden--visually {border: 0;clip: rect(1px 1px 1px 1px);clip: rect(1px, 1px, 1px, 1px);height: 1px;margin: -1px;overflow: hidden;padding: 0;position: absolute;width: 1px;}#sk-container-id-11 div.sk-estimator {font-family: monospace;background-color: #f0f8ff;border: 1px dotted black;border-radius: 0.25em;box-sizing: border-box;margin-bottom: 0.5em;}#sk-container-id-11 div.sk-estimator:hover {background-color: #d4ebff;}#sk-container-id-11 div.sk-parallel-item::after {content: \"\";width: 100%;border-bottom: 1px solid gray;flex-grow: 1;}#sk-container-id-11 div.sk-label:hover label.sk-toggleable__label {background-color: #d4ebff;}#sk-container-id-11 div.sk-serial::before {content: \"\";position: absolute;border-left: 1px solid gray;box-sizing: border-box;top: 0;bottom: 0;left: 50%;z-index: 0;}#sk-container-id-11 div.sk-serial {display: flex;flex-direction: column;align-items: center;background-color: white;padding-right: 0.2em;padding-left: 0.2em;position: relative;}#sk-container-id-11 div.sk-item {position: relative;z-index: 1;}#sk-container-id-11 div.sk-parallel {display: flex;align-items: stretch;justify-content: center;background-color: white;position: relative;}#sk-container-id-11 div.sk-item::before, #sk-container-id-11 div.sk-parallel-item::before {content: \"\";position: absolute;border-left: 1px solid gray;box-sizing: border-box;top: 0;bottom: 0;left: 50%;z-index: -1;}#sk-container-id-11 div.sk-parallel-item {display: flex;flex-direction: column;z-index: 1;position: relative;background-color: white;}#sk-container-id-11 div.sk-parallel-item:first-child::after {align-self: flex-end;width: 50%;}#sk-container-id-11 div.sk-parallel-item:last-child::after {align-self: flex-start;width: 50%;}#sk-container-id-11 div.sk-parallel-item:only-child::after {width: 0;}#sk-container-id-11 div.sk-dashed-wrapped {border: 1px dashed gray;margin: 0 0.4em 0.5em 0.4em;box-sizing: border-box;padding-bottom: 0.4em;background-color: white;}#sk-container-id-11 div.sk-label label {font-family: monospace;font-weight: bold;display: inline-block;line-height: 1.2em;}#sk-container-id-11 div.sk-label-container {text-align: center;}#sk-container-id-11 div.sk-container {/* jupyter's `normalize.less` sets `[hidden] { display: none; }` but bootstrap.min.css set `[hidden] { display: none !important; }` so we also need the `!important` here to be able to override the default hidden behavior on the sphinx rendered scikit-learn.org. See: https://github.com/scikit-learn/scikit-learn/issues/21755 */display: inline-block !important;position: relative;}#sk-container-id-11 div.sk-text-repr-fallback {display: none;}</style><div id=\"sk-container-id-11\" class=\"sk-top-container\"><div class=\"sk-text-repr-fallback\"><pre>DecisionTreeClassifier(max_depth=20, random_state=42)</pre><b>In a Jupyter environment, please rerun this cell to show the HTML representation or trust the notebook. <br />On GitHub, the HTML representation is unable to render, please try loading this page with nbviewer.org.</b></div><div class=\"sk-container\" hidden><div class=\"sk-item\"><div class=\"sk-estimator sk-toggleable\"><input class=\"sk-toggleable__control sk-hidden--visually\" id=\"sk-estimator-id-11\" type=\"checkbox\" checked><label for=\"sk-estimator-id-11\" class=\"sk-toggleable__label sk-toggleable__label-arrow\">DecisionTreeClassifier</label><div class=\"sk-toggleable__content\"><pre>DecisionTreeClassifier(max_depth=20, random_state=42)</pre></div></div></div></div></div>"
            ]
          },
          "metadata": {},
          "execution_count": 158
        }
      ]
    },
    {
      "cell_type": "code",
      "source": [
        "# Step 9: Evaluate the model\n",
        "y_pred = best_clf.predict(X_test)\n",
        "accuracy = accuracy_score(y_test, y_pred)\n",
        "report = classification_report(y_test, y_pred)\n",
        "conf_matrix = confusion_matrix(y_test, y_pred)\n",
        "\n",
        "print(f'Accuracy: {accuracy:.2f}')\n",
        "print('Classification Report:')\n",
        "print(report)\n",
        "print('Confusion Matrix:')\n",
        "print(conf_matrix)"
      ],
      "metadata": {
        "colab": {
          "base_uri": "https://localhost:8080/"
        },
        "id": "pWK-_xmu2OlU",
        "outputId": "3f02a648-ec03-4d51-99d2-1eb47b2127d1"
      },
      "execution_count": 160,
      "outputs": [
        {
          "output_type": "stream",
          "name": "stdout",
          "text": [
            "Accuracy: 0.84\n",
            "Classification Report:\n",
            "              precision    recall  f1-score   support\n",
            "\n",
            "           0       0.94      0.88      0.91      7952\n",
            "           1       0.40      0.57      0.47      1091\n",
            "\n",
            "    accuracy                           0.84      9043\n",
            "   macro avg       0.67      0.73      0.69      9043\n",
            "weighted avg       0.87      0.84      0.85      9043\n",
            "\n",
            "Confusion Matrix:\n",
            "[[7001  951]\n",
            " [ 467  624]]\n"
          ]
        }
      ]
    },
    {
      "cell_type": "markdown",
      "source": [
        "#####**Now let's test our project, for this we are taking a subset of 20 entries from the dataset then we will be predicting on that subset after the the prediction we will be matching the results with the actual one that whether the the user will purchase the product or service or not.**"
      ],
      "metadata": {
        "id": "OmsCHm4d7N3F"
      }
    },
    {
      "cell_type": "code",
      "source": [
        "# Test with a subset of the dataset\n",
        "def test_subset_of_dataset():\n",
        "    subset_size = 20\n",
        "    subset_data = data.sample(n=subset_size, random_state=42)\n",
        "    subset_X = subset_data.drop(columns=['y'])\n",
        "    subset_y = subset_data['y']\n",
        "\n",
        "    subset_X_encoded = encode_input_data(subset_X, label_encoders)\n",
        "\n",
        "    if subset_X_encoded is None:\n",
        "        print(\"Encoding failed due to previously unseen labels.\")\n",
        "        return\n",
        "\n",
        "    # Ensure that encoded subset has the correct shape\n",
        "    if subset_X_encoded.shape[1] != X.shape[1]:\n",
        "        print(\"Shape mismatch between encoded subset and training data.\")\n",
        "        print(f\"Encoded subset shape: {subset_X_encoded.shape}\")\n",
        "        print(f\"Training data shape: {X.shape}\")\n",
        "        return\n",
        "\n",
        "    subset_predictions = best_clf.predict(subset_X_encoded)\n",
        "\n",
        "    print(\"Testing with a subset of the dataset:\")\n",
        "    for i in range(subset_size):\n",
        "        print(f\"Data point {i+1}:\")\n",
        "        print(f\"Actual: {'Purchase' if subset_y.iloc[i] == 1 else 'No Purchase'}\")\n",
        "        print(f\"Prediction: {'Purchase' if subset_predictions[i] == 1 else 'No Purchase'}\")\n",
        "        print()"
      ],
      "metadata": {
        "id": "I8GdgQ2sW2op"
      },
      "execution_count": 166,
      "outputs": []
    },
    {
      "cell_type": "code",
      "source": [
        "# Function to encode input data using the trained label encoders\n",
        "def encode_input_data(input_df, label_encoders):\n",
        "    encoded_df = input_df.copy()\n",
        "    for col in label_encoders:\n",
        "        if col in encoded_df.columns:\n",
        "            le = label_encoders[col]\n",
        "            encoded_df[col] = le.transform(encoded_df[col])\n",
        "        else:\n",
        "            print(f\"Column {col} not found in input data.\")\n",
        "    return encoded_df"
      ],
      "metadata": {
        "id": "bHyKJJFv2g0w"
      },
      "execution_count": 167,
      "outputs": []
    },
    {
      "cell_type": "code",
      "source": [
        "# Run the subset test\n",
        "test_subset_of_dataset()"
      ],
      "metadata": {
        "colab": {
          "base_uri": "https://localhost:8080/"
        },
        "id": "_BKc-ALo3WBf",
        "outputId": "61e13be6-a596-4a98-bf75-06cdda5f331c"
      },
      "execution_count": 168,
      "outputs": [
        {
          "output_type": "stream",
          "name": "stdout",
          "text": [
            "Testing with a subset of the dataset:\n",
            "Data point 1:\n",
            "Actual: No Purchase\n",
            "Prediction: No Purchase\n",
            "\n",
            "Data point 2:\n",
            "Actual: No Purchase\n",
            "Prediction: No Purchase\n",
            "\n",
            "Data point 3:\n",
            "Actual: No Purchase\n",
            "Prediction: No Purchase\n",
            "\n",
            "Data point 4:\n",
            "Actual: No Purchase\n",
            "Prediction: Purchase\n",
            "\n",
            "Data point 5:\n",
            "Actual: No Purchase\n",
            "Prediction: No Purchase\n",
            "\n",
            "Data point 6:\n",
            "Actual: No Purchase\n",
            "Prediction: Purchase\n",
            "\n",
            "Data point 7:\n",
            "Actual: No Purchase\n",
            "Prediction: No Purchase\n",
            "\n",
            "Data point 8:\n",
            "Actual: No Purchase\n",
            "Prediction: No Purchase\n",
            "\n",
            "Data point 9:\n",
            "Actual: No Purchase\n",
            "Prediction: No Purchase\n",
            "\n",
            "Data point 10:\n",
            "Actual: No Purchase\n",
            "Prediction: No Purchase\n",
            "\n",
            "Data point 11:\n",
            "Actual: Purchase\n",
            "Prediction: No Purchase\n",
            "\n",
            "Data point 12:\n",
            "Actual: No Purchase\n",
            "Prediction: No Purchase\n",
            "\n",
            "Data point 13:\n",
            "Actual: No Purchase\n",
            "Prediction: No Purchase\n",
            "\n",
            "Data point 14:\n",
            "Actual: Purchase\n",
            "Prediction: No Purchase\n",
            "\n",
            "Data point 15:\n",
            "Actual: No Purchase\n",
            "Prediction: No Purchase\n",
            "\n",
            "Data point 16:\n",
            "Actual: Purchase\n",
            "Prediction: Purchase\n",
            "\n",
            "Data point 17:\n",
            "Actual: No Purchase\n",
            "Prediction: No Purchase\n",
            "\n",
            "Data point 18:\n",
            "Actual: No Purchase\n",
            "Prediction: No Purchase\n",
            "\n",
            "Data point 19:\n",
            "Actual: No Purchase\n",
            "Prediction: No Purchase\n",
            "\n",
            "Data point 20:\n",
            "Actual: Purchase\n",
            "Prediction: No Purchase\n",
            "\n"
          ]
        }
      ]
    }
  ]
}